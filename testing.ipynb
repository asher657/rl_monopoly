{
 "cells": [
  {
   "cell_type": "code",
   "execution_count": 1,
   "id": "initial_id",
   "metadata": {
    "ExecuteTime": {
     "end_time": "2025-03-13T02:03:30.274876900Z",
     "start_time": "2025-03-13T02:03:30.154869Z"
    },
    "collapsed": true
   },
   "outputs": [],
   "source": [
    "import numpy as np"
   ]
  },
  {
   "cell_type": "code",
   "execution_count": 12,
   "id": "43315722f23371ac",
   "metadata": {
    "ExecuteTime": {
     "end_time": "2025-03-13T02:03:54.467118300Z",
     "start_time": "2025-03-13T02:03:54.462807800Z"
    },
    "collapsed": false
   },
   "outputs": [
    {
     "data": {
      "text/plain": [
       "6"
      ]
     },
     "execution_count": 12,
     "metadata": {},
     "output_type": "execute_result"
    }
   ],
   "source": [
    "np.random.randint(1, 7)"
   ]
  },
  {
   "cell_type": "code",
   "execution_count": 13,
   "id": "4436d383a4c7c156",
   "metadata": {
    "ExecuteTime": {
     "end_time": "2025-03-13T02:25:52.784715500Z",
     "start_time": "2025-03-13T02:25:52.775317500Z"
    },
    "collapsed": false
   },
   "outputs": [],
   "source": [
    "import json\n",
    "from types import SimpleNamespace"
   ]
  },
  {
   "cell_type": "code",
   "execution_count": null,
   "id": "4f4d086d5a7e1bad",
   "metadata": {
    "collapsed": false
   },
   "outputs": [],
   "source": [
    "with open('positions.json', 'r') as f:\n",
    "    data = json.loads(f, object_hook=lambda d: SimpleNamespace())"
   ]
  }
 ],
 "metadata": {
  "kernelspec": {
   "display_name": "base",
   "language": "python",
   "name": "python3"
  },
  "language_info": {
   "codemirror_mode": {
    "name": "ipython",
    "version": 3
   },
   "file_extension": ".py",
   "mimetype": "text/x-python",
   "name": "python",
   "nbconvert_exporter": "python",
   "pygments_lexer": "ipython3",
   "version": "3.12.7"
  }
 },
 "nbformat": 4,
 "nbformat_minor": 5
}
